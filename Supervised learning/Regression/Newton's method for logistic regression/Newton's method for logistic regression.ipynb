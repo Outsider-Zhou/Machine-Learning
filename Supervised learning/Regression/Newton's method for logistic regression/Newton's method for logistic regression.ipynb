{
 "cells": [
  {
   "cell_type": "markdown",
   "id": "3397a430",
   "metadata": {
    "collapsed": true
   },
   "source": [
    "# Newton's method for logistic regression"
   ]
  },
  {
   "cell_type": "markdown",
   "id": "2ac9c74c",
   "metadata": {},
   "source": [
    "## 1. Representation"
   ]
  },
  {
   "cell_type": "markdown",
   "id": "33e55c84",
   "metadata": {},
   "source": [
    "#### 1.1. Overview"
   ]
  },
  {
   "cell_type": "code",
   "execution_count": 1,
   "id": "a80da91f",
   "metadata": {},
   "outputs": [],
   "source": [
    "import numpy as np\n",
    "import pandas as pd\n",
    "import matplotlib.pyplot as plt\n",
    "%matplotlib inline"
   ]
  },
  {
   "cell_type": "code",
   "execution_count": 2,
   "id": "b3f0ff70",
   "metadata": {},
   "outputs": [],
   "source": [
    "df_X = pd.read_csv('./data/logistic_x.txt', sep='\\ +', header=None, engine='python')\n",
    "ys = pd.read_csv('./data/logistic_y.txt', sep='\\ +', header=None, engine='python')\n",
    "ys = ys.astype(int)"
   ]
  },
  {
   "cell_type": "code",
   "execution_count": 3,
   "id": "9c5d3e21",
   "metadata": {},
   "outputs": [],
   "source": [
    "df_X['label'] = ys[0].values "
   ]
  },
  {
   "cell_type": "code",
   "execution_count": 4,
   "id": "7cd02d18",
   "metadata": {},
   "outputs": [
    {
     "data": {
      "text/plain": [
       "<AxesSubplot:xlabel='0', ylabel='1'>"
      ]
     },
     "execution_count": 4,
     "metadata": {},
     "output_type": "execute_result"
    },
    {
     "data": {
      "image/png": "[encoded data removed]",
      "text/plain": [
       "<Figure size 432x288 with 1 Axes>"
      ]
     },
     "metadata": {
      "needs_background": "light"
     },
     "output_type": "display_data"
    }
   ],
   "source": [
    "ax = plt.axes()\n",
    "\n",
    "df_X.query('label == -1').plot.scatter(x=0, y=1, ax=ax, color='blue') #x= column name \"0\", y =x= column name \"1\" \n",
    "df_X.query('label == 1').plot.scatter(x=0, y=1, ax=ax, color='red')"
   ]
  },
  {
   "cell_type": "markdown",
   "id": "729e8230",
   "metadata": {},
   "source": [
    "#### 1.2. Input variable"
   ]
  },
  {
   "cell_type": "code",
   "execution_count": 5,
   "id": "5d34d37a",
   "metadata": {},
   "outputs": [],
   "source": [
    "# The first two column of df_X\n",
    "Xs = df_X[[0, 1]].values\n",
    "\n",
    "# adding a columns of ones for the intercept terms\n",
    "Xs = np.hstack([np.ones((Xs.shape[0], 1)), Xs]) #(99,3)\n",
    "# print(Xs.shape)"
   ]
  },
  {
   "cell_type": "markdown",
   "id": "209552fe",
   "metadata": {},
   "source": [
    "#### 1.3. Response variable"
   ]
  },
  {
   "cell_type": "code",
   "execution_count": 6,
   "id": "eeb92e1d",
   "metadata": {},
   "outputs": [],
   "source": [
    "# transform dataframe to numpy.ndarray (99,)\n",
    "ys = df_X['label'].values \n",
    "\n",
    "# print(ys.shape)"
   ]
  },
  {
   "cell_type": "markdown",
   "id": "64a911fc",
   "metadata": {},
   "source": [
    "## 2. Evaluation"
   ]
  },
  {
   "cell_type": "markdown",
   "id": "0c4b4b6b",
   "metadata": {},
   "source": [
    "\\begin{align*}\n",
    "J(\\theta) &= \\frac{1}{m} \\sum_{k=1}^{m} \\mathrm{log}\\big(1 + e ^{-y^{(k)} \\theta^T x^{(k)}}\\big) \\\\\n",
    "               &= - \\frac{1}{m} \\sum_{k=1}^{m} \\mathrm{log}\\big(g(z^{(k)})\\big)\n",
    "\\end{align*}"
   ]
  },
  {
   "cell_type": "markdown",
   "id": "1e49311f",
   "metadata": {},
   "source": [
    "where $g(z^{(k)}) = \\frac{1}{1 + e^{-z^{(k)}}}$ and $z^{(k)} = y^{(k)} \\theta^T x^{(k)}$. \n",
    "\n",
    "For clarity, in the following derivation, $z = z^{(k)}$."
   ]
  },
  {
   "cell_type": "markdown",
   "id": "5b0da2c3",
   "metadata": {},
   "source": [
    "## 3. Optimization"
   ]
  },
  {
   "cell_type": "markdown",
   "id": "7dbea42c",
   "metadata": {},
   "source": [
    "Note that"
   ]
  },
  {
   "cell_type": "markdown",
   "id": "91f7b8ae",
   "metadata": {},
   "source": [
    "Newton's method addresses getting to $f(\\theta) = 0$, and minimizing $J(\\theta)$ means getting $\\frac{\\partial J}{\\partial \\theta}$ to 0. There after applying Newton's method, extending it to multidimensional setting (Newton-Raphson method), the update rule becomes:\n",
    "\n",
    "\\begin{align*}\n",
    "\\theta &:= \\theta - H^{-1} \\nabla_{\\theta} J(\\theta)\n",
    "\\end{align*}\n"
   ]
  },
  {
   "cell_type": "markdown",
   "id": "bb69017c",
   "metadata": {},
   "source": [
    "#### 3.1 Formula"
   ]
  },
  {
   "cell_type": "markdown",
   "id": "0cba533d",
   "metadata": {},
   "source": [
    "$$z^{(k)} = y^{(k)} \\theta^T x^{(k)}$$\n",
    "\n",
    "$$g(z^{(k)}) = \\frac{1}{1 + e^{-z^{(k)}}}$$\n",
    "\n",
    "$$\n",
    "\\frac{\\partial J}{\\partial \\theta_i} \n",
    " = \\frac{1}{m} \\sum_{k=1}^{m} \\big(g(z^{(k)}) - 1\\big) y^{(k)} x_i^{(k)}\n",
    "$$\n",
    "\n",
    "$$\n",
    "H_{ij} = \\frac{1}{m} \\sum_{k=1}^{m} g(z^{(k)})\\big(1 - g(z^{(k)})\\big) x_i^{(k)} x_j^{(k)}\n",
    "$$"
   ]
  },
  {
   "cell_type": "markdown",
   "id": "e1a8b92e",
   "metadata": {},
   "source": [
    "#### 3.2 Proof"
   ]
  },
  {
   "cell_type": "markdown",
   "id": "73e9eda7",
   "metadata": {},
   "source": [
    "\\begin{align*}\n",
    "\\frac{\\partial J}{\\partial \\theta_i} \n",
    " &= -\\frac{1}{m} \\sum_{k=1}^{m} \\frac{1}{g(z)} \\frac{\\partial g(z)}{\\partial z} \\frac{\\partial z(\\theta_i)}{\\partial \\theta_i}  \\\\\n",
    " &= -\\frac{1}{m} \\sum_{k=1}^{m} \\frac{1}{g(z)} g(z) (1 - g(z)) \\frac{\\partial z}{\\partial \\theta_i}  \\\\\n",
    " &= -\\frac{1}{m} \\sum_{k=1}^{m} \\big(1 - g(z) \\big) \\frac{\\partial z}{\\partial \\theta_i}  \\\\\n",
    " &= -\\frac{1}{m} \\sum_{k=1}^{m} \\big(1 - g(z) \\big) y^{(k)} x_i^{(k)}  \\\\\n",
    " &= \\frac{1}{m} \\sum_{k=1}^{m} \\big(g(z) - 1 \\big) y^{(k)} x_i^{(k)}  \\\\\n",
    "\\end{align*}\n"
   ]
  },
  {
   "cell_type": "markdown",
   "id": "d21a45ba",
   "metadata": {},
   "source": [
    "Then,\n",
    "\n",
    "\\begin{align*}\n",
    "H_{ij} = \\frac{\\partial J}{\\partial \\theta_i \\partial \\theta_j} \n",
    "&= \\frac{1}{m} \\sum_{k=1}^{m} \\frac{\\partial (g(z)  - 1)}{\\partial \\theta_j} y^{(k)} x_i^{(k)} \\\\\n",
    "&= \\frac{1}{m} \\sum_{k=1}^{m} \\frac {\\partial g(z)}{\\partial \\theta_j} y^{(k)} x_i^{(k)} \\\\\n",
    "&= \\frac{1}{m} \\sum_{k=1}^{m} g(z)\\big(1 - g(z)\\big) \\frac{\\partial z}{\\partial \\theta_j} y^{(k)} x_i^{(k)} \\\\\n",
    "&= \\frac{1}{m} \\sum_{k=1}^{m} g(z)\\big(1 - g(z)\\big) y^{(k)} x_j^{(k)} y^{(k)} x_i^{(k)} \\\\\n",
    "&= \\frac{1}{m} \\sum_{k=1}^{m} g(z)\\big(1 - g(z)\\big) x_i^{(k)} x_j^{(k)} \\\\\n",
    "\\end{align*}"
   ]
  },
  {
   "cell_type": "markdown",
   "id": "b648bbe6",
   "metadata": {},
   "source": [
    "#### 3.3 Code"
   ]
  },
  {
   "cell_type": "code",
   "execution_count": 9,
   "id": "36f041f7",
   "metadata": {},
   "outputs": [
    {
     "name": "stdout",
     "output_type": "stream",
     "text": [
      "converged after 7 iterations\n"
     ]
    }
   ],
   "source": [
    "all_thetas = [] # collect for demonstration purpose\n",
    "theta = np.zeros(Xs.shape[1])\n",
    "tol = 1e9\n",
    "n_iters = 0\n",
    "while tol > 1e-6:\n",
    "    zs = ys * Xs.dot(theta) #z value\n",
    "    gzs = 1 / (1 + np.exp(-zs))  \n",
    "    nabla = np.mean((gzs - 1) * ys * Xs.T, axis=1)\n",
    "    \n",
    "    # Calculating hessian\n",
    "    \n",
    "    hessian = np.zeros((Xs.shape[1], Xs.shape[1]))\n",
    "    for i in range(hessian.shape[0]):\n",
    "        for j in range(hessian.shape[0]):\n",
    "            if i <= j:\n",
    "                hessian[i][j] = np.mean(gzs * (1 - gzs) * Xs[:,i] * Xs[:,j])\n",
    "            if i != j:\n",
    "                hessian[j][i] = hessian[i][j]\n",
    "            \n",
    "    delta = np.linalg.inv(hessian).dot(nabla)\n",
    "    \n",
    "    # Optimization\n",
    "    \n",
    "    old_theta = theta.copy()\n",
    "    theta -= delta #subtracts right operand from the left operand and assign the result to left operand\n",
    "    all_thetas.append(theta.copy()) # Record theta in each iteration\n",
    "    n_iters += 1\n",
    "    tol = np.sum(np.abs(theta - old_theta)) # Measure the amount of change in this iteration\n",
    "print('converged after {0} iterations'.format(n_iters))"
   ]
  },
  {
   "cell_type": "markdown",
   "id": "b7894366",
   "metadata": {},
   "source": [
    "Next step is to draw a decision boundary\n",
    "\n",
    "\n",
    "$$ z=\\theta_0+\\theta_1x_1+\\theta_2x_2$$\n",
    "$$\\hat{y} =  \\frac{1}{1 + e^{-z}}$$\n",
    "\n",
    "\n",
    "If we set the decision boundary for $\\hat{y} = 0.5$\n",
    "\n",
    "\n",
    "$$ z=0 $$ \n",
    "$$ z= \\theta_0+\\theta_1x_1+\\theta_2x_2 $$\n",
    "$$ 0 = \\theta_0+\\theta_1x_1+\\theta_2x_2 $$\n",
    "$$ x_2 = \\frac{-\\theta_0+\\theta_1x_1}{\\theta_2} $$\n",
    "\n",
    "Note! We cannot draw a line like linear regression $$\\hat{y}=X\\theta$$"
   ]
  },
  {
   "cell_type": "code",
   "execution_count": 17,
   "id": "ae77910a",
   "metadata": {},
   "outputs": [
    {
     "data": {
      "text/plain": [
       "<matplotlib.legend.Legend at 0x7fe979458b80>"
      ]
     },
     "execution_count": 17,
     "metadata": {},
     "output_type": "execute_result"
    },
    {
     "data": {
      "image/png": "[encoded data removed]",
      "text/plain": [
       "<Figure size 432x288 with 1 Axes>"
      ]
     },
     "metadata": {
      "needs_background": "light"
     },
     "output_type": "display_data"
    }
   ],
   "source": [
    "ax = plt.axes()\n",
    "\n",
    "df_X.query('label == -1').plot.scatter(x=0, y=1, ax=ax, color='blue')\n",
    "df_X.query('label == 1').plot.scatter(x=0, y=1, ax=ax, color='red')\n",
    "\n",
    "\n",
    "x_1 = np.array([np.min(Xs[:,1]), np.max(Xs[:,1])])  \n",
    "\n",
    "for k, theta in enumerate(all_thetas):\n",
    "    boundary = (theta[0] + theta[1] * x_1) / (- theta[2]) \n",
    "    plt.plot(x_1, boundary, label='iter {0}'.format(k + 1), lw=0.5)\n",
    "plt.legend(bbox_to_anchor=(1.04,1), loc=\"upper left\")"
   ]
  },
  {
   "cell_type": "markdown",
   "id": "1325a85a",
   "metadata": {},
   "source": [
    "Since all the lines are so close to each other, Newton's method converges very quickly, at least for this dataset."
   ]
  }
 ],
 "metadata": {
  "kernelspec": {
   "display_name": "Python 3 (ipykernel)",
   "language": "python",
   "name": "python3"
  },
  "language_info": {
   "codemirror_mode": {
    "name": "ipython",
    "version": 3
   },
   "file_extension": ".py",
   "mimetype": "text/x-python",
   "name": "python",
   "nbconvert_exporter": "python",
   "pygments_lexer": "ipython3",
   "version": "3.8.8"
  }
 },
 "nbformat": 4,
 "nbformat_minor": 5
}
