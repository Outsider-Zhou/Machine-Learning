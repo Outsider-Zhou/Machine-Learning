{
 "cells": [
  {
   "cell_type": "markdown",
   "id": "844dba8e",
   "metadata": {},
   "source": [
    "### 1. Build multinomial naïve model"
   ]
  },
  {
   "cell_type": "markdown",
   "id": "7b38e9a5",
   "metadata": {},
   "source": [
    "#### 1.1 how to train\n",
    "For Navie Bayes represented as a multinomial event model, to maximize its maxmimum likelihood with Laplace smoothing,\n",
    "\n",
    "\\begin{align*}\n",
    "\\phi_{k|y=1} &= \\frac{\\sum_{i=1}^{m} \\sum_{j=1}^{n_i} \\boldsymbol{1} \\{ x_j^{(i)} = k \\wedge y^{(i)} =1 \\} + 1}{\\sum_{i=1}^{m} \\boldsymbol{1} \\{ y^{(i)} = 1 \\} n_i + \\left| V \\right|} \\\\\n",
    "\\phi_{k|y=0} &= \\frac{\\sum_{i=1}^{m} \\sum_{j=1}^{n_i} \\boldsymbol{1} \\{ x_j^{(i)} = k \\wedge y^{(i)} =0 \\} + 1}{\\sum_{i=1}^{m} \\boldsymbol{1} \\{ y^{(i)} = 0 \\} n_i + \\left| V \\right|} \\\\\n",
    "\\phi_{y} &= \\frac{\\sum_{i=1}^{m} \\boldsymbol{1} \\{ y^{(i)} = 1 \\}}{m}\n",
    "\\end{align*}"
   ]
  },
  {
   "cell_type": "markdown",
   "id": "11b90923",
   "metadata": {},
   "source": [
    "#### 1.2 how to predicte\n",
    "\n",
    "\\begin{align*}\n",
    "p(y=1|x) &= \\frac{p(x|y=1)p(y=1)}{p(x)} \\\\\n",
    "              &= \\frac{p(x|y=1)p(y=1)}{p(x|y=1)p(y=1) + p(x|y=0) p(y=0)} \\\\\n",
    "              &= \\frac{1}{1 + \\frac{p(x|y=0) p(y=0)}{p(x|y=1) p(y=1)}} \\\\\n",
    "              &= \\frac{1}{1 + \\mathrm{exp} (\\mathrm{log}P(x|y=0) + \\mathrm{log}P(y=0) - \\mathrm{log}P(x|y=1) - \\mathrm{log} P(y=1))}\n",
    "\\end{align*}\n"
   ]
  },
  {
   "cell_type": "markdown",
   "id": "fe91752d",
   "metadata": {},
   "source": [
    "#### 1.3 Code\n",
    "Since the document-word matrix is extremely sparse (has lots of zero entries), we have stored it in our own efficient format to save space. You don’t have to worry about this format."
   ]
  },
  {
   "cell_type": "code",
   "execution_count": 36,
   "id": "f725a0ed",
   "metadata": {},
   "outputs": [],
   "source": [
    "import numpy as np\n",
    "\n",
    "\n",
    "def readMatrix(file):\n",
    "    fd = open(file, 'r')\n",
    "    hdr = fd.readline() #head line for the file name\n",
    "    rows, cols = [int(s) for s in fd.readline().strip().split()] #second line for the size\n",
    "    tokens = fd.readline().strip().split() #third line for TOKENS_LIST\n",
    "    matrix = np.zeros((rows, cols)) \n",
    "    Y = []\n",
    "    for i, line in enumerate(fd):\n",
    "        nums = [int(x) for x in line.strip().split()] #creat an array for each line\n",
    "        Y.append(nums[0]) #the first item in each array to create a trainCategory\n",
    "        kv = np.array(nums[1:])\n",
    "        k = np.cumsum(kv[:-1:2])\n",
    "        v = kv[1::2]\n",
    "        matrix[i, k] = v\n",
    "    return matrix, tokens, np.array(Y)\n",
    "\n",
    "\n",
    "def nb_train(matrix, category):\n",
    "    state = {}\n",
    "    vocabulary_size = matrix.shape[1]\n",
    "    mat1 = matrix[category == 1, :]\n",
    "    mat0 = matrix[category == 0, :]\n",
    "\n",
    "    # documentation length, i.e. number of tokens in each document\n",
    "    mat1_doc_lens = mat1.sum(axis=1)\n",
    "        \n",
    "    # yeq1 means \"given y equals 1\"\n",
    "    # mat1.sum(axis=0) refers to number of each token in spams\n",
    "    \n",
    "    state['phi_yeq1'] = (mat1.sum(axis=0) + 1) / (np.sum(mat1_doc_lens) + vocabulary_size)\n",
    "\n",
    "    mat0_doc_lens = mat0.sum(axis=1)\n",
    "    state['phi_yeq0'] = (mat0.sum(axis=0) + 1) / (np.sum(mat0_doc_lens) + vocabulary_size)\n",
    "\n",
    "    state['phi'] = mat1.shape[0] / (mat1.shape[0] + mat0.shape[0])\n",
    "    return state\n",
    "\n",
    "\n",
    "def nb_test(matrix, state):\n",
    "    output = np.zeros(matrix.shape[0])\n",
    "    log_phi_yeq1 = np.sum(np.log(state['phi_yeq1']) * matrix, axis=1)\n",
    "    log_phi_yeq0 = np.sum(np.log(state['phi_yeq0']) * matrix, axis=1)\n",
    "    phi = state['phi']    \n",
    "\n",
    "    # see corresponding notebook for equations\n",
    "    ratio = np.exp(log_phi_yeq0 + np.log(1 - phi) - log_phi_yeq1 - np.log(phi))\n",
    "    probs = 1 / (1 + ratio)\n",
    "    output[probs > 0.5] = 1\n",
    "    return output\n",
    "\n",
    "\n",
    "def evaluate(output, label):\n",
    "    error = (output != label).sum() * 1. / len(output)\n",
    "    print(f\"Error: {error}\")\n",
    "    return error"
   ]
  },
  {
   "cell_type": "markdown",
   "id": "6c3daacd",
   "metadata": {},
   "source": [
    "### 2. Use the model"
   ]
  },
  {
   "cell_type": "code",
   "execution_count": 32,
   "id": "50417a4a",
   "metadata": {},
   "outputs": [],
   "source": [
    "import numpy as np"
   ]
  },
  {
   "cell_type": "code",
   "execution_count": 33,
   "id": "ed041a2f",
   "metadata": {},
   "outputs": [],
   "source": [
    "#  Obtain Data\n",
    "trainMatrix, tokenlist, trainCategory = readMatrix('spam_data/MATRIX.TRAIN')\n",
    "\n",
    "\n",
    "## Train Data\n",
    "state = nb_train(trainMatrix, trainCategory)"
   ]
  },
  {
   "cell_type": "markdown",
   "id": "b279f9a2",
   "metadata": {},
   "source": [
    "1. trainMatrix is now a (numTrainDocs x numTokens) matrix. Each row represents a unique document (email).The j-th column of the row $i$ represents the number of times the j-th token appeared in email $i$.  \n",
    "2. tokenlist is a long string containing the list of all tokens (words). These tokens are easily known by position in the file TOKENS_LIST     \n",
    "3. trainCategory is a (1 x numTrainDocs) vector containing the true classifications for the documents just read in. The i-th entry gives the correct class for the i-th email (which corresponds to the i-th row in the document word matrix).  \n",
    "4. Spam documents are indicated as class 1, and non-spam as class 0. Note that for the SVM, you would want to convert these to +1 and -1.  \n"
   ]
  },
  {
   "cell_type": "markdown",
   "id": "b54b6fd5",
   "metadata": {},
   "source": [
    "##### 2.1 Find the 5 tokens that are most indicative of the SPAM class"
   ]
  },
  {
   "cell_type": "code",
   "execution_count": 34,
   "id": "76286119",
   "metadata": {},
   "outputs": [
    {
     "data": {
      "text/plain": [
       "array(['httpaddr', 'spam', 'unsubscrib', 'ebai', 'valet'], dtype='<U16')"
      ]
     },
     "execution_count": 34,
     "metadata": {},
     "output_type": "execute_result"
    }
   ],
   "source": [
    "tokens = np.array(tokenlist)\n",
    "\n",
    "tokens[np.argsort(state['phi_yeq1'] / state['phi_yeq0'])[::-1]][:5] \n",
    "\n",
    "# argsort: Returns the indices that would sort an array\n",
    "# [::-1] reverse (from the largest to the smallest)\n",
    "# [:10] selct the first 10 largest"
   ]
  },
  {
   "cell_type": "markdown",
   "id": "7e67f79d",
   "metadata": {},
   "source": [
    "##### 2.2 Repeat, but with training sets of size ranging from 50, 100, 200, . . . , up to 1400,"
   ]
  },
  {
   "cell_type": "code",
   "execution_count": 49,
   "id": "ffabd147",
   "metadata": {},
   "outputs": [],
   "source": [
    "import glob\n",
    "import matplotlib.pyplot as plt"
   ]
  },
  {
   "cell_type": "code",
   "execution_count": 50,
   "id": "604c3f4f",
   "metadata": {},
   "outputs": [
    {
     "name": "stdout",
     "output_type": "stream",
     "text": [
      "Error: 0.03875\n",
      "Error: 0.02625\n",
      "Error: 0.02625\n",
      "Error: 0.01875\n",
      "Error: 0.0175\n",
      "Error: 0.01625\n"
     ]
    }
   ],
   "source": [
    "files = sorted(glob.glob('./spam_data/MATRIX.TRAIN.[0-9]*'), key=lambda s: int(s.rsplit('.')[-1]))\n",
    "\n",
    "nb_sizes = []\n",
    "nb_errs = []\n",
    "mat_test, tok_test, cat_test = readMatrix('./spam_data/MATRIX.TEST')\n",
    "\n",
    "\n",
    "for f in files:\n",
    "    mat, tok, cat = readMatrix(f)\n",
    "    nb_sizes.append(mat.shape[0])\n",
    "    mod = nb_train(mat, cat)\n",
    "    output = nb_test(mat_test, mod)\n",
    "    nb_errs.append(evaluate(output, cat_test))"
   ]
  },
  {
   "cell_type": "code",
   "execution_count": 52,
   "id": "aae8cda3",
   "metadata": {},
   "outputs": [
    {
     "data": {
      "text/plain": [
       "Text(0, 0.5, 'error')"
      ]
     },
     "execution_count": 52,
     "metadata": {},
     "output_type": "execute_result"
    },
    {
     "data": {
      "image/png": "[encoded data removed]",
      "text/plain": [
       "<Figure size 432x288 with 1 Axes>"
      ]
     },
     "metadata": {
      "needs_background": "light"
     },
     "output_type": "display_data"
    }
   ],
   "source": [
    "plt.plot(nb_sizes,nb_errs)\n",
    "plt.xlabel('training set size')\n",
    "plt.ylabel('error')"
   ]
  }
 ],
 "metadata": {
  "kernelspec": {
   "display_name": "Python 3 (ipykernel)",
   "language": "python",
   "name": "python3"
  },
  "language_info": {
   "codemirror_mode": {
    "name": "ipython",
    "version": 3
   },
   "file_extension": ".py",
   "mimetype": "text/x-python",
   "name": "python",
   "nbconvert_exporter": "python",
   "pygments_lexer": "ipython3",
   "version": "3.8.8"
  }
 },
 "nbformat": 4,
 "nbformat_minor": 5
}
